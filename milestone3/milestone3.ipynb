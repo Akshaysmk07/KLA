{
 "cells": [
  {
   "cell_type": "code",
   "execution_count": 1,
   "metadata": {},
   "outputs": [
    {
     "name": "stdout",
     "output_type": "stream",
     "text": [
      "(-1,-1):(-20,-20)\n",
      "(0,-1):(15,-20)\n",
      "(-1,0):(-20,15)\n",
      "(0,0):(15,15)\n",
      "(-1,-1):(5,5)\n",
      "(0,-1):(17,5)\n",
      "(1,-1):(29,5)\n",
      "(-1,0):(5,17)\n",
      "(0,0):(17,17)\n",
      "(1,0):(29,17)\n",
      "(-1,-1):(46.5,36.5)\n",
      "(0,-1):(69.0,36.5)\n",
      "(1,-1):(91.5,36.5)\n",
      "(-1,0):(46.5,65.0)\n",
      "(0,0):(69.0,65.0)\n",
      "(1,0):(91.5,65.0)\n",
      "(-3,-2):(49.699999999999996,51.5)\n",
      "(-2,-2):(56.49999999999999,51.5)\n",
      "(-1,-2):(63.3,51.5)\n",
      "(0,-2):(70.1,51.5)\n",
      "(1,-2):(76.89999999999999,51.5)\n",
      "(2,-2):(83.69999999999999,51.5)\n",
      "(-3,-1):(49.699999999999996,57.699999999999996)\n",
      "(-2,-1):(56.49999999999999,57.699999999999996)\n",
      "(-1,-1):(63.3,57.699999999999996)\n",
      "(0,-1):(70.1,57.699999999999996)\n",
      "(1,-1):(76.89999999999999,57.699999999999996)\n",
      "(2,-1):(83.69999999999999,57.699999999999996)\n",
      "(-3,0):(49.699999999999996,63.9)\n",
      "(-2,0):(56.49999999999999,63.9)\n",
      "(-1,0):(63.3,63.9)\n",
      "(0,0):(70.1,63.9)\n",
      "(1,0):(76.89999999999999,63.9)\n",
      "(2,0):(83.69999999999999,63.9)\n",
      "(-3,1):(49.699999999999996,70.1)\n",
      "(-2,1):(56.49999999999999,70.1)\n",
      "(-1,1):(63.3,70.1)\n",
      "(0,1):(70.1,70.1)\n",
      "(1,1):(76.89999999999999,70.1)\n",
      "(2,1):(83.69999999999999,70.1)\n"
     ]
    }
   ],
   "source": [
    "import math\n",
    "\n",
    "def asymmetric_wafer_map(wafer_diameter, die_size, die_shift_vector, reference_die, die_street_width_height, reticle_street_width_height, dies_per_reticle):\n",
    "\n",
    "    die_width, die_height = die_size\n",
    "    die_shift_x, die_shift_y = die_shift_vector\n",
    "    ref_die_x, ref_die_y = reference_die\n",
    "    street_width, street_height = die_street_width_height\n",
    "    reticle_street_width, reticle_street_height = reticle_street_width_height\n",
    "    reticle_rows, reticle_columns = dies_per_reticle\n",
    "\n",
    "    half_wafer_diameter = wafer_diameter / 2\n",
    "    die_rows = reticle_rows * reticle_columns\n",
    "    die_spacing_x = die_width + street_width\n",
    "    die_spacing_y = die_height + street_height\n",
    "\n",
    "    result = []\n",
    "\n",
    "    for i in range(reticle_rows):\n",
    "        for j in range(reticle_columns):\n",
    "            die_index_x = j - math.floor(reticle_columns / 2)\n",
    "            die_index_y = i - math.floor(reticle_rows / 2)\n",
    "\n",
    "            die_x = ref_die_x + die_shift_x + die_index_x * die_spacing_x\n",
    "            die_y = ref_die_y + die_shift_y + die_index_y * die_spacing_y\n",
    "\n",
    "            if (\n",
    "                -half_wafer_diameter <= die_x <= half_wafer_diameter\n",
    "                and -half_wafer_diameter <= die_y <= half_wafer_diameter\n",
    "            ):\n",
    "                result.append(f\"({die_index_x},{die_index_y}):({die_x},{die_y})\")\n",
    "\n",
    "    return result\n",
    "\n",
    "testcase1 = (300, (30, 30), (0, 0), (15, 15), (5, 5), (10, 10), (2, 2))\n",
    "testcase2 = (200, (10, 10), (0, 0), (17, 17), (2, 2), (3, 3), (2, 3))\n",
    "testcase3 = (300, (20, 25), (7, 12), (62, 53), (2.5, 3.5), (3, 3), (2, 3))\n",
    "testcase4 = (300, (5, 5), (27, 39), (43.1, 24.9), (1.8, 1.2), (3.2, 4.2), (4, 6))\n",
    "\n",
    "output1 = asymmetric_wafer_map(*testcase1)\n",
    "output2 = asymmetric_wafer_map(*testcase2)\n",
    "output3 = asymmetric_wafer_map(*testcase3)\n",
    "output4 = asymmetric_wafer_map(*testcase4)\n",
    "\n",
    "for output in [output1, output2, output3, output4]:\n",
    "    for result in output:\n",
    "        print(result)\n",
    "\n",
    "\n"
   ]
  },
  {
   "cell_type": "code",
   "execution_count": null,
   "metadata": {},
   "outputs": [],
   "source": []
  },
  {
   "cell_type": "code",
   "execution_count": null,
   "metadata": {},
   "outputs": [],
   "source": []
  },
  {
   "cell_type": "code",
   "execution_count": null,
   "metadata": {},
   "outputs": [],
   "source": []
  },
  {
   "cell_type": "code",
   "execution_count": null,
   "metadata": {},
   "outputs": [],
   "source": []
  },
  {
   "cell_type": "code",
   "execution_count": null,
   "metadata": {},
   "outputs": [],
   "source": []
  },
  {
   "cell_type": "code",
   "execution_count": null,
   "metadata": {},
   "outputs": [],
   "source": []
  }
 ],
 "metadata": {
  "kernelspec": {
   "display_name": "Python 3",
   "language": "python",
   "name": "python3"
  },
  "language_info": {
   "codemirror_mode": {
    "name": "ipython",
    "version": 3
   },
   "file_extension": ".py",
   "mimetype": "text/x-python",
   "name": "python",
   "nbconvert_exporter": "python",
   "pygments_lexer": "ipython3",
   "version": "3.11.1"
  }
 },
 "nbformat": 4,
 "nbformat_minor": 2
}
