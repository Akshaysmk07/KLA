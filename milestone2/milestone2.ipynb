{
 "cells": [
  {
   "cell_type": "code",
   "execution_count": 5,
   "metadata": {},
   "outputs": [],
   "source": [
    "import math\n",
    "\n",
    "def calculate_die_coordinates(wafer_diameter, die_size, die_shift_vector, reference_die):\n",
    "    die_width, die_height = die_size\n",
    "    shift_x, shift_y = die_shift_vector\n",
    "    ref_die_x, ref_die_y = reference_die\n",
    "\n",
    "    coordinates = []\n",
    "\n",
    "    for i in range(math.ceil(wafer_diameter / die_width)):\n",
    "        for j in range(math.ceil(wafer_diameter / die_height)):\n",
    "            die_x = i * die_width + shift_x - ref_die_x\n",
    "            die_y = j * die_height + shift_y - ref_die_y\n",
    "\n",
    "            if 0 <= die_x <= wafer_diameter and 0 <= die_y <= wafer_diameter:\n",
    "                coordinates.append((i, j, die_x, die_y))\n",
    "\n",
    "    return coordinates\n",
    "\n",
    "def format_output(coordinates):\n",
    "    output_lines = []\n",
    "\n",
    "    for coord in coordinates:\n",
    "        output_lines.append(f\"({coord[0]},{coord[1]}):({coord[2]:.4f},{coord[3]:.4f})\")\n",
    "\n",
    "    return output_lines\n",
    "\n",
    "def main():\n",
    "    test_cases = [\n",
    "        {\"wafer_diameter\": 300, \"die_size\": (30, 30), \"die_shift_vector\": (0, 0), \"reference_die\": (15, 15)},\n",
    "        {\"wafer_diameter\": 200, \"die_size\": (10, 10), \"die_shift_vector\": (10, 10), \"reference_die\": (25, 25)},\n",
    "        {\"wafer_diameter\": 300, \"die_size\": (24, 70), \"die_shift_vector\": (5, 38), \"reference_die\": (-7, 3)},\n",
    "        {\"wafer_diameter\": 300, \"die_size\": (2, 2), \"die_shift_vector\": (15, 15), \"reference_die\": (-44, -66)},\n",
    "    ]\n",
    "\n",
    "    for idx, test_case in enumerate(test_cases, start=1):\n",
    "        coordinates = calculate_die_coordinates(**test_case)\n",
    "        output_lines = format_output(coordinates)\n",
    "\n",
    "        with open(f\"testcase{idx}_output.txt\", \"w\") as output_file:\n",
    "            output_file.write(\"\\n\".join(output_lines))\n",
    "\n",
    "if __name__ == \"__main__\":\n",
    "    main()\n"
   ]
  },
  {
   "cell_type": "code",
   "execution_count": null,
   "metadata": {},
   "outputs": [],
   "source": []
  },
  {
   "cell_type": "code",
   "execution_count": null,
   "metadata": {},
   "outputs": [],
   "source": []
  },
  {
   "cell_type": "code",
   "execution_count": null,
   "metadata": {},
   "outputs": [],
   "source": []
  },
  {
   "cell_type": "code",
   "execution_count": null,
   "metadata": {},
   "outputs": [],
   "source": []
  },
  {
   "cell_type": "code",
   "execution_count": null,
   "metadata": {},
   "outputs": [],
   "source": []
  },
  {
   "cell_type": "code",
   "execution_count": null,
   "metadata": {},
   "outputs": [],
   "source": []
  },
  {
   "cell_type": "code",
   "execution_count": null,
   "metadata": {},
   "outputs": [],
   "source": []
  },
  {
   "cell_type": "code",
   "execution_count": 1,
   "metadata": {},
   "outputs": [],
   "source": []
  },
  {
   "cell_type": "code",
   "execution_count": null,
   "metadata": {},
   "outputs": [],
   "source": []
  },
  {
   "cell_type": "code",
   "execution_count": null,
   "metadata": {},
   "outputs": [],
   "source": []
  }
 ],
 "metadata": {
  "kernelspec": {
   "display_name": "Python 3",
   "language": "python",
   "name": "python3"
  },
  "language_info": {
   "codemirror_mode": {
    "name": "ipython",
    "version": 3
   },
   "file_extension": ".py",
   "mimetype": "text/x-python",
   "name": "python",
   "nbconvert_exporter": "python",
   "pygments_lexer": "ipython3",
   "version": "3.11.1"
  }
 },
 "nbformat": 4,
 "nbformat_minor": 2
}
