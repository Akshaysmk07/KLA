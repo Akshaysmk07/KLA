{
 "cells": [
  {
   "cell_type": "code",
   "execution_count": 33,
   "metadata": {},
   "outputs": [],
   "source": [
    "import math\n",
    "\n",
    "file = open(\"Testcase4.txt\" , 'r')\n",
    "a = file.readlines()\n"
   ]
  },
  {
   "cell_type": "code",
   "execution_count": 34,
   "metadata": {},
   "outputs": [
    {
     "name": "stdout",
     "output_type": "stream",
     "text": [
      "['200', '31', '150']\n"
     ]
    }
   ],
   "source": [
    "values = []\n",
    "for i in a :\n",
    "    req = i.split(':') \n",
    "    val = req[1].split('\\n')\n",
    "    values.append(val[0])\n",
    "\n",
    "\n",
    "dia = int(values[0])\n",
    "no_of_points = int(values[1])\n",
    "angle = int(values[2])\n",
    "print(values)"
   ]
  },
  {
   "cell_type": "code",
   "execution_count": 35,
   "metadata": {},
   "outputs": [
    {
     "name": "stdout",
     "output_type": "stream",
     "text": [
      "Endpoint 1: (-86.60254037844388, 49.99999999999999)\n",
      "Endpoint 2: (86.60254037844388, -49.99999999999999)\n",
      "4.451612903225806\n"
     ]
    }
   ],
   "source": [
    "\n",
    "rad = dia/2\n",
    "def find_diameter_endpoints(center, radius, angle_deg):\n",
    "    h, k = center\n",
    "    theta_rad = math.radians(angle_deg)\n",
    "\n",
    "    endpoint1 = (h, k)  \n",
    "    endpoint2_x = h + radius * math.cos(theta_rad)\n",
    "    endpoint2_y = k + radius * math.sin(theta_rad)\n",
    "    endpoint2 = (endpoint2_x, endpoint2_y)\n",
    "    endpoint3_x = h - radius * math.cos(theta_rad)\n",
    "    endpoint3_y = k - radius * math.sin(theta_rad)\n",
    "    endpoint3 = (endpoint3_x, endpoint3_y)\n",
    "\n",
    "    return endpoint1, endpoint2,endpoint3\n",
    "\n",
    "center = (0, 0)\n",
    "\n",
    "endpoints = find_diameter_endpoints(center, rad, angle)\n",
    "\n",
    "\n",
    "print(f\"Endpoint 1: {endpoints[1]}\")\n",
    "print(f\"Endpoint 2: {endpoints[2]}\")\n",
    "no_of_parts = (dia/no_of_points)-2\n",
    "print(no_of_parts)\n",
    "current_point = endpoints[2] \n"
   ]
  },
  {
   "cell_type": "code",
   "execution_count": 36,
   "metadata": {},
   "outputs": [],
   "source": [
    "\n",
    "\n",
    "def find_equidistant_vertices(start_point, end_point, num_points):\n",
    "    vertices = []\n",
    "    delta_x = (end_point[0] - start_point[0]) / (num_points + 1)\n",
    "    delta_y = (end_point[1] - start_point[1]) / (num_points + 1)\n",
    "\n",
    "    for i in range(1, num_points + 1):\n",
    "        x = round(start_point[0] + i * delta_x,4)\n",
    "        y = round(start_point[1] + i * delta_y,4)\n",
    "        vertices.append((x, y))\n",
    "\n",
    "    return vertices\n",
    "\n",
    "\n",
    "\n",
    "\n",
    "equidistant_vertices = find_equidistant_vertices(endpoints[1], endpoints[2], no_of_points-2)\n",
    "\n",
    "equidistant_vertices.append(endpoints[1])\n",
    "equidistant_vertices.append(endpoints[2])\n",
    "\n"
   ]
  },
  {
   "cell_type": "code",
   "execution_count": 37,
   "metadata": {},
   "outputs": [],
   "source": [
    "f = open(\"Testcase3_out.txt\", \"w\")\n",
    "for item in equidistant_vertices:\n",
    "\tf.write(str(item)+'\\n')\n",
    "\t\n",
    "f.close()\n",
    "\n"
   ]
  },
  {
   "cell_type": "code",
   "execution_count": 29,
   "metadata": {},
   "outputs": [],
   "source": []
  },
  {
   "cell_type": "code",
   "execution_count": null,
   "metadata": {},
   "outputs": [],
   "source": []
  },
  {
   "cell_type": "code",
   "execution_count": null,
   "metadata": {},
   "outputs": [],
   "source": []
  },
  {
   "cell_type": "code",
   "execution_count": null,
   "metadata": {},
   "outputs": [],
   "source": []
  },
  {
   "cell_type": "code",
   "execution_count": null,
   "metadata": {},
   "outputs": [],
   "source": []
  },
  {
   "cell_type": "code",
   "execution_count": null,
   "metadata": {},
   "outputs": [],
   "source": []
  },
  {
   "cell_type": "markdown",
   "metadata": {},
   "source": []
  },
  {
   "cell_type": "code",
   "execution_count": null,
   "metadata": {},
   "outputs": [],
   "source": []
  }
 ],
 "metadata": {
  "kernelspec": {
   "display_name": "Python 3",
   "language": "python",
   "name": "python3"
  },
  "language_info": {
   "codemirror_mode": {
    "name": "ipython",
    "version": 3
   },
   "file_extension": ".py",
   "mimetype": "text/x-python",
   "name": "python",
   "nbconvert_exporter": "python",
   "pygments_lexer": "ipython3",
   "version": "3.11.1"
  }
 },
 "nbformat": 4,
 "nbformat_minor": 2
}
